{
 "cells": [
  {
   "cell_type": "code",
   "execution_count": 1,
   "metadata": {
    "collapsed": true
   },
   "outputs": [],
   "source": [
    "\"\"\"\n",
    "    1. list comprehension\n",
    "    - The inversed i-th columns goes to the i-th row\n",
    "    \n",
    "    2. Space: O(1), Time: O(n)\n",
    "    - Use the four side\n",
    "    - save into the tmp, and changed the position by the previous value\n",
    "    - From the outside of the side to the inside of the side step by step\n",
    "    - How many times we need?\n",
    "    1 x 1 -> End\n",
    "    2 x 2 -> 1 times\n",
    "    3 x 3 -> 2 times\n",
    "    4 x 4 -> 2 times\n",
    "    \n",
    "    3. Space: O(n), Time: O(n)\n",
    "    - Make tmp, the temporary nxn matrix, which fill in zero \n",
    "    - fill the i-th row of the given matrix a to tmp's n-1-i'th column\n",
    "    - return tmp\n",
    "    \n",
    "    \"\"\"\n",
    "def rotateImage1(a):\n",
    "    return [[x[i] for x in a][::-1] for i in range(len(a))]\n",
    "    \n",
    "def rotateImage2(a):\n",
    "    side = len(a)\n",
    "    n = side // 2 + 1\n",
    "    for i in range(n):\n",
    "        #Start from (i,i)\n",
    "        #first the side length is len(a)\n",
    "        #the next the side length is len(a) - 2\n",
    "        calculator(side, i, a)\n",
    "        side -= 2\n",
    "    return a\n",
    "\n",
    "def calculator(side, i, a):\n",
    "    for j in range(side-1):\n",
    "        tmp, a[i+j][i+side-1] = a[i+j][i+side-1], a[i][i+j]\n",
    "        tmp, a[i+side-1][i+side-1-j] = a[i+side-1][i+side-1-j], tmp\n",
    "        tmp, a[i+side-1-j][i] = a[i+side-1-j][i] ,tmp\n",
    "        a[i][i+j] = tmp\n"
   ]
  },
  {
   "cell_type": "code",
   "execution_count": null,
   "metadata": {
    "collapsed": true
   },
   "outputs": [],
   "source": []
  }
 ],
 "metadata": {
  "anaconda-cloud": {},
  "kernelspec": {
   "display_name": "Python [conda env:Anaconda3]",
   "language": "python",
   "name": "conda-env-Anaconda3-py"
  },
  "language_info": {
   "codemirror_mode": {
    "name": "ipython",
    "version": 3
   },
   "file_extension": ".py",
   "mimetype": "text/x-python",
   "name": "python",
   "nbconvert_exporter": "python",
   "pygments_lexer": "ipython3",
   "version": "3.5.2"
  }
 },
 "nbformat": 4,
 "nbformat_minor": 2
}
