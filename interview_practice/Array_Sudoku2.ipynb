{
 "cells": [
  {
   "cell_type": "code",
   "execution_count": 1,
   "metadata": {
    "collapsed": true
   },
   "outputs": [],
   "source": [
    "\"\"\"\n",
    "Space: O(1) Time: O(n)\n",
    "1. Check inner 3x3 matrix\n",
    "2. Check row&col list check\n",
    "\"\"\"\n",
    "\n",
    "def sudoku2(grid):\n",
    "\n",
    "#InnecerCheck & rowcolCheck by iterator\n",
    "    rowMax, colMax = len(grid), len(grid[0])    \n",
    "    return all(True == (innerCheck(grid,i,j) and rowcolCheck(grid,i,j)) \n",
    "               for i in range(rowMax) for j in range(colMax) if grid[i][j] != '.')\n",
    "\n",
    "#Check the inner Grid\n",
    "def innerCheck(grid,i,j):\n",
    "    val = grid[i][j]\n",
    "    rowIx, colIx = 3 * (i // 3), 3 * (j // 3)\n",
    "    return all(val != grid[row][col] \n",
    "               for row in range(rowIx, rowIx+3) for col in range(colIx, colIx+3)  if row != i or col != j)\n",
    "    \n",
    "\n",
    "#Check the row Grid\n",
    "#Check the col Grid\n",
    "def rowcolCheck(grid,i,j):\n",
    "    #row Grid\n",
    "    val = grid[i][j]\n",
    "    return all(val != grid[i][col] for col in range(9) if col != j) and all(val != grid[row][j] for row in range(9) if row != i)\n"
   ]
  },
  {
   "cell_type": "code",
   "execution_count": null,
   "metadata": {
    "collapsed": true
   },
   "outputs": [],
   "source": []
  }
 ],
 "metadata": {
  "anaconda-cloud": {},
  "kernelspec": {
   "display_name": "Python [conda env:Anaconda3]",
   "language": "python",
   "name": "conda-env-Anaconda3-py"
  },
  "language_info": {
   "codemirror_mode": {
    "name": "ipython",
    "version": 3
   },
   "file_extension": ".py",
   "mimetype": "text/x-python",
   "name": "python",
   "nbconvert_exporter": "python",
   "pygments_lexer": "ipython3",
   "version": "3.5.2"
  }
 },
 "nbformat": 4,
 "nbformat_minor": 2
}
