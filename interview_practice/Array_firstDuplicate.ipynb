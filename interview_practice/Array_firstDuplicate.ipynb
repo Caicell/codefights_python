{
 "cells": [
  {
   "cell_type": "code",
   "execution_count": 4,
   "metadata": {
    "collapsed": false
   },
   "outputs": [
    {
     "data": {
      "text/plain": [
       "3"
      ]
     },
     "execution_count": 4,
     "metadata": {},
     "output_type": "execute_result"
    }
   ],
   "source": [
    "def firstDuplicate(a):\n",
    "    \"\"\"\n",
    "1. Time: O(n) Space: O(1)\n",
    " - Use the character of the range of the integer\n",
    " - Convert a[value-1] for value = abs(a[i]) to negative if positive\n",
    " - Else return the value\n",
    " - Return -1 unless find anything at the end\n",
    "\n",
    "2. Time: O(n) Space: O(n)\n",
    " - Save what appeared in the traverse search\n",
    " - On the traversing, return the value if the value exist in the set\n",
    " - Return -1 unless find anything at the end\n",
    "\n",
    "    \"\"\"\n",
    "    for i, val in enumerate(a):\n",
    "        val = abs(val)\n",
    "        if a[val-1] < 0: return val\n",
    "        else:\n",
    "            a[val-1] *= -1\n",
    "    return -1\n",
    "        \n",
    "firstDuplicate([1, 2 , 3, 3])"
   ]
  },
  {
   "cell_type": "code",
   "execution_count": null,
   "metadata": {
    "collapsed": true
   },
   "outputs": [],
   "source": []
  }
 ],
 "metadata": {
  "anaconda-cloud": {},
  "kernelspec": {
   "display_name": "Python [conda env:Anaconda3]",
   "language": "python",
   "name": "conda-env-Anaconda3-py"
  },
  "language_info": {
   "codemirror_mode": {
    "name": "ipython",
    "version": 3
   },
   "file_extension": ".py",
   "mimetype": "text/x-python",
   "name": "python",
   "nbconvert_exporter": "python",
   "pygments_lexer": "ipython3",
   "version": "3.5.2"
  }
 },
 "nbformat": 4,
 "nbformat_minor": 2
}
