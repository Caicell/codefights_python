{
 "cells": [
  {
   "cell_type": "code",
   "execution_count": 1,
   "metadata": {
    "collapsed": true
   },
   "outputs": [],
   "source": [
    "def isCryptSolution(crypt, solution):\n",
    "    \"\"\"\n",
    "    Space O(1), TIme: O(n)\n",
    "    - To convert every word into the string(integer)\n",
    "    - if all the value is zero, it's true\n",
    "    (\"0\" + \"0\" = \"0\")\n",
    "    - Any one of the word starts with \"0\", it's False\n",
    "     (\"010\" + \"110\" = \"120)\n",
    "    - Calculate!\n",
    "    \"\"\"\n",
    "\n",
    "    solution_dict = {key: value for key, value in solution}\n",
    "    converter = lambda x: solution_dict[x]\n",
    "    \n",
    "    val1 = ''.join(map(converter, crypt[0]))\n",
    "    val2 = ''.join(map(converter, crypt[1]))\n",
    "    val3 = ''.join(map(converter, crypt[2]))\n",
    "    \n",
    "    if \"0\" == val1 == val2 == val3: return True\n",
    "    if any(solution_dict[x] == \"0\" for x, *_ in crypt): return False\n",
    "    return int(val1) + int(val2) == int(val3)\n",
    "    \n",
    "    \n",
    "    \n",
    "    \n",
    "        \n",
    "    "
   ]
  },
  {
   "cell_type": "code",
   "execution_count": null,
   "metadata": {
    "collapsed": true
   },
   "outputs": [],
   "source": []
  }
 ],
 "metadata": {
  "anaconda-cloud": {},
  "kernelspec": {
   "display_name": "Python [conda env:Anaconda3]",
   "language": "python",
   "name": "conda-env-Anaconda3-py"
  },
  "language_info": {
   "codemirror_mode": {
    "name": "ipython",
    "version": 3
   },
   "file_extension": ".py",
   "mimetype": "text/x-python",
   "name": "python",
   "nbconvert_exporter": "python",
   "pygments_lexer": "ipython3",
   "version": "3.5.2"
  }
 },
 "nbformat": 4,
 "nbformat_minor": 2
}
