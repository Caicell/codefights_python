{
 "cells": [
  {
   "cell_type": "code",
   "execution_count": 2,
   "metadata": {
    "collapsed": false
   },
   "outputs": [],
   "source": [
    "def digitTreeSum(t):\n",
    "    if not t:\n",
    "        return 0\n",
    "    cumSum = 0\n",
    "    stack = [(t,t.value)]\n",
    "    while stack:\n",
    "        cumSum += sum(cur_cum for node, cur_cum in stack if not node.left and not node.right)\n",
    "        stack = [(node.left, 10*cur_cum + node.left.value) \n",
    "                 for node, cur_cum in stack if node.left] + [(node.right, 10*cur_cum + node.right.value) \n",
    "                                                             for node, cur_cum in stack if node.right]\n",
    "    return cumSum\n",
    "    "
   ]
  },
  {
   "cell_type": "code",
   "execution_count": null,
   "metadata": {
    "collapsed": true
   },
   "outputs": [],
   "source": []
  }
 ],
 "metadata": {
  "kernelspec": {
   "display_name": "Python [conda env:Anaconda3]",
   "language": "python",
   "name": "conda-env-Anaconda3-py"
  },
  "language_info": {
   "codemirror_mode": {
    "name": "ipython",
    "version": 3
   },
   "file_extension": ".py",
   "mimetype": "text/x-python",
   "name": "python",
   "nbconvert_exporter": "python",
   "pygments_lexer": "ipython3",
   "version": "3.5.2"
  }
 },
 "nbformat": 4,
 "nbformat_minor": 2
}
