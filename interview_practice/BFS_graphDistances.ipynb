{
 "cells": [
  {
   "cell_type": "code",
   "execution_count": 1,
   "metadata": {
    "collapsed": true
   },
   "outputs": [],
   "source": [
    "def graphDistances(g, s):\n",
    "\n",
    "    I = set([s])\n",
    "    J = set([x for x in range(len(g)) if x != s])\n",
    "    memo = [0] * len(g)\n",
    "    \n",
    "    while J:\n",
    "        min_j, min_j_val = None, None\n",
    "        for i in I:\n",
    "            for j in J:\n",
    "                if g[i][j] == -1: continue\n",
    "                cost_j = memo[i] + g[i][j]\n",
    "                if min_j is None or cost_j < min_j_val:\n",
    "                    min_j_val = cost_j\n",
    "                    min_j = j\n",
    "                \n",
    "        memo[min_j] = min_j_val\n",
    "        tmp = set([min_j])\n",
    "        I |= tmp\n",
    "        J -= tmp\n",
    "    return memo"
   ]
  },
  {
   "cell_type": "code",
   "execution_count": null,
   "metadata": {
    "collapsed": true
   },
   "outputs": [],
   "source": []
  }
 ],
 "metadata": {
  "kernelspec": {
   "display_name": "Python [conda env:Anaconda3]",
   "language": "python",
   "name": "conda-env-Anaconda3-py"
  },
  "language_info": {
   "codemirror_mode": {
    "name": "ipython",
    "version": 3
   },
   "file_extension": ".py",
   "mimetype": "text/x-python",
   "name": "python",
   "nbconvert_exporter": "python",
   "pygments_lexer": "ipython3",
   "version": "3.5.2"
  }
 },
 "nbformat": 4,
 "nbformat_minor": 2
}
