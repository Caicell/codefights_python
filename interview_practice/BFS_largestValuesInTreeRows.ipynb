{
 "cells": [
  {
   "cell_type": "code",
   "execution_count": 1,
   "metadata": {
    "collapsed": true
   },
   "outputs": [],
   "source": [
    "def largestValuesInTreeRows(t):\n",
    "    if not t: return []\n",
    "    \n",
    "    stack = [t]\n",
    "    largest_val_row = []\n",
    "    while stack:\n",
    "        n = len(stack)\n",
    "        max_val = max(node.value for node in stack)\n",
    "        stack = [node.left for node in stack if node.left] + [node.right for node in stack if node.right]\n",
    "        largest_val_row.append(max_val)\n",
    "    return largest_val_row\n",
    "\n"
   ]
  },
  {
   "cell_type": "code",
   "execution_count": null,
   "metadata": {
    "collapsed": true
   },
   "outputs": [],
   "source": []
  }
 ],
 "metadata": {
  "kernelspec": {
   "display_name": "Python [conda env:Anaconda3]",
   "language": "python",
   "name": "conda-env-Anaconda3-py"
  },
  "language_info": {
   "codemirror_mode": {
    "name": "ipython",
    "version": 3
   },
   "file_extension": ".py",
   "mimetype": "text/x-python",
   "name": "python",
   "nbconvert_exporter": "python",
   "pygments_lexer": "ipython3",
   "version": "3.5.2"
  }
 },
 "nbformat": 4,
 "nbformat_minor": 2
}
