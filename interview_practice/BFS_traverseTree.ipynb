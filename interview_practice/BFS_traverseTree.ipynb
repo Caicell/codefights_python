{
 "cells": [
  {
   "cell_type": "code",
   "execution_count": 1,
   "metadata": {
    "collapsed": false
   },
   "outputs": [],
   "source": [
    "from collections import deque\n",
    "def traverseTree(t):\n",
    "    \"\"\"\n",
    "    Use BFS Algorithm\n",
    "    1. stack\n",
    "    2. pop() from left\n",
    "    \n",
    "    Outlier Detection\n",
    "    1. t is None\n",
    "    \"\"\"\n",
    "    if not t: \n",
    "        return []\n",
    "    queue = deque()\n",
    "    queue.append(t)\n",
    "    val_lst = []\n",
    "    while queue:\n",
    "        n = len(queue)\n",
    "        for _ in range(n):\n",
    "            node = queue.popleft()\n",
    "            val_lst.append(node.value)\n",
    "            if node.left: queue.append(node.left)\n",
    "            if node.right: queue.append(node.right)\n",
    "    return val_lst\n",
    "    "
   ]
  },
  {
   "cell_type": "code",
   "execution_count": null,
   "metadata": {
    "collapsed": true
   },
   "outputs": [],
   "source": []
  }
 ],
 "metadata": {
  "kernelspec": {
   "display_name": "Python [conda env:Anaconda3]",
   "language": "python",
   "name": "conda-env-Anaconda3-py"
  },
  "language_info": {
   "codemirror_mode": {
    "name": "ipython",
    "version": 3
   },
   "file_extension": ".py",
   "mimetype": "text/x-python",
   "name": "python",
   "nbconvert_exporter": "python",
   "pygments_lexer": "ipython3",
   "version": "3.5.2"
  }
 },
 "nbformat": 4,
 "nbformat_minor": 2
}
