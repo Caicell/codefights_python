{
 "cells": [
  {
   "cell_type": "code",
   "execution_count": 1,
   "metadata": {
    "collapsed": true
   },
   "outputs": [],
   "source": [
    "def climbingStaircase(n, k):\n",
    "    \n",
    "    sortStair = []\n",
    "    climbing([n], k, sortStair)\n",
    "    return sortStair\n",
    "\n",
    "\n",
    "def climbing(climbStair, k, sortStair):\n",
    "    leftStair = climbStair.pop()\n",
    "    if leftStair == 0:\n",
    "        sortStair.append(climbStair)\n",
    "        return\n",
    "    elif k < leftStair:\n",
    "        for i in range(1, k+1):\n",
    "            climbing(climbStair + [i, leftStair-i],k, sortStair)\n",
    "    elif leftStair <= k:\n",
    "        for i in range(1, leftStair+1):\n",
    "            climbing(climbStair + [i, leftStair-i],k, sortStair)\n"
   ]
  },
  {
   "cell_type": "code",
   "execution_count": null,
   "metadata": {
    "collapsed": true
   },
   "outputs": [],
   "source": []
  }
 ],
 "metadata": {
  "anaconda-cloud": {},
  "kernelspec": {
   "display_name": "Python [conda env:Anaconda3]",
   "language": "python",
   "name": "conda-env-Anaconda3-py"
  },
  "language_info": {
   "codemirror_mode": {
    "name": "ipython",
    "version": 3
   },
   "file_extension": ".py",
   "mimetype": "text/x-python",
   "name": "python",
   "nbconvert_exporter": "python",
   "pygments_lexer": "ipython3",
   "version": "3.5.2"
  }
 },
 "nbformat": 4,
 "nbformat_minor": 2
}
