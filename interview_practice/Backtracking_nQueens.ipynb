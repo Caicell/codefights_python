{
 "cells": [
  {
   "cell_type": "code",
   "execution_count": 1,
   "metadata": {
    "collapsed": true
   },
   "outputs": [],
   "source": [
    "def nQueens(n):\n",
    "    res = []\n",
    "    def search(qu_col):\n",
    "        if len(qu_col) == n:\n",
    "            res.append(qu_col)\n",
    "        for i in range(1,n+1):\n",
    "            #Check the row identical or not\n",
    "            if i not in qu_col:\n",
    "                #Check the diagonal, y = x + alpha or y = -x + beta\n",
    "                if not any(i+len(qu_col) == col+row or i - len(qu_col) == col - row for row, col in enumerate(qu_col)):\n",
    "                    search(qu_col + [i])\n",
    "    search([])\n",
    "    return res\n",
    "    \n",
    "    "
   ]
  },
  {
   "cell_type": "code",
   "execution_count": null,
   "metadata": {
    "collapsed": true
   },
   "outputs": [],
   "source": []
  }
 ],
 "metadata": {
  "anaconda-cloud": {},
  "kernelspec": {
   "display_name": "Python [conda env:Anaconda3]",
   "language": "python",
   "name": "conda-env-Anaconda3-py"
  },
  "language_info": {
   "codemirror_mode": {
    "name": "ipython",
    "version": 3
   },
   "file_extension": ".py",
   "mimetype": "text/x-python",
   "name": "python",
   "nbconvert_exporter": "python",
   "pygments_lexer": "ipython3",
   "version": "3.5.2"
  }
 },
 "nbformat": 4,
 "nbformat_minor": 2
}
