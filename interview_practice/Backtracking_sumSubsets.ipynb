{
 "cells": [
  {
   "cell_type": "code",
   "execution_count": 6,
   "metadata": {
    "collapsed": true
   },
   "outputs": [],
   "source": [
    "def sumSubsets(arr, num):\n",
    "    \"\"\"\n",
    "    Step1. Get the sorted array [[number ,cnt] ...]\n",
    "    Step2. Build all stack per number using number_cnt\n",
    "    Step3. Return part_lst having the cum_sum == num\n",
    "    \"\"\"\n",
    "    stack = [[[],0]]\n",
    "    arr = sorted(arr)\n",
    "    cnt_stack = []\n",
    "    for val in arr:\n",
    "        if not cnt_stack or cnt_stack[-1][0] != val:\n",
    "            cnt_stack.append([val,1])\n",
    "        else:\n",
    "            cnt_stack[-1][1] += 1\n",
    "        \n",
    "    for i, (val, val_cnt) in enumerate(cnt_stack):\n",
    "        stack = [[part + [val] * val_time, cum_sum + val * val_time]  \n",
    "                 for val_time in range(val_cnt+1) \n",
    "                 for part, cum_sum in stack if cum_sum + val*val_time <= num]\n",
    "        \n",
    "    return sorted(part for part, cum_sum in stack if cum_sum == num)\n",
    "\n",
    "def sumSubsets2(arr,num):\n",
    "    \"\"\"\n",
    "    Step1. Build ans, the list including empty sets until index num\n",
    "    Step2. Fill the first element with an empty tuple\n",
    "    Step3. Attach the tuples if satisfy with the following conditions\n",
    "    -Regard of n in the arr, if we already have m-n value(index) in ans, then we can build ans[m]\n",
    "    Step4. return sorted(ans[num])\n",
    "    \"\"\"\n",
    "    ans = [set() for _ in range(num+1)]\n",
    "    ans[0].add(())\n",
    "    for n in arr:\n",
    "        for m in range(num, n-1, -1):\n",
    "            if ans[m-n]:\n",
    "                for x in ans[m-n]:\n",
    "                    ans[m].add(x+(n, ))\n",
    "    ans = sorted(list(ans[num]))\n",
    "    return ans\n",
    "\n",
    "    "
   ]
  },
  {
   "cell_type": "code",
   "execution_count": 5,
   "metadata": {
    "collapsed": false
   },
   "outputs": [
    {
     "data": {
      "text/plain": [
       "{()}"
      ]
     },
     "execution_count": 5,
     "metadata": {},
     "output_type": "execute_result"
    }
   ],
   "source": [
    "a[0]"
   ]
  },
  {
   "cell_type": "code",
   "execution_count": null,
   "metadata": {
    "collapsed": true
   },
   "outputs": [],
   "source": []
  }
 ],
 "metadata": {
  "anaconda-cloud": {},
  "kernelspec": {
   "display_name": "Python [conda env:Anaconda3]",
   "language": "python",
   "name": "conda-env-Anaconda3-py"
  },
  "language_info": {
   "codemirror_mode": {
    "name": "ipython",
    "version": 3
   },
   "file_extension": ".py",
   "mimetype": "text/x-python",
   "name": "python",
   "nbconvert_exporter": "python",
   "pygments_lexer": "ipython3",
   "version": "3.5.2"
  }
 },
 "nbformat": 4,
 "nbformat_minor": 2
}
