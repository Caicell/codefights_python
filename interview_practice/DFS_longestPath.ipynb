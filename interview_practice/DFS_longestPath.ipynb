{
 "cells": [
  {
   "cell_type": "code",
   "execution_count": 1,
   "metadata": {
    "collapsed": true
   },
   "outputs": [],
   "source": [
    "def longestPath(fileSystem):\n",
    "    \"\"\"\n",
    "    Use strip and split function\n",
    "    Step1. Split the long String by \"\\f\"\n",
    "    Step2. strip i-th file_ by \"\\t\" to check the depth of the file\n",
    "    (Cf. folder can be called as file!)\n",
    "    Step3. The difference between the original file_ length and the stripped file_ length == the depth of the file\n",
    "    Step4. Get the max length if the file contains '.' else update a new file depth strings\n",
    "    Step5. By finishing the traverse go to step 2 and i += 1\n",
    "    Step6. Get max_len\n",
    "    \"\"\"\n",
    "    \n",
    "    fileSystem = fileSystem.split(\"\\f\")\n",
    "    max_len = 0\n",
    "    file_depth = {0:0}\n",
    "    for file_ in fileSystem:\n",
    "        name = file_.lstrip(\"\\t\")\n",
    "        tab_cnt = len(file_) - len(name)\n",
    "        if '.' in name:\n",
    "            max_len = max(file_depth[tab_cnt] + len(name), max_len)\n",
    "        else:\n",
    "            file_depth[tab_cnt+1] = file_depth[tab_cnt] + len(name) + 1\n",
    "    return max_len\n",
    "\n",
    "def longestPath2(fileSystem):\n",
    "    \"\"\"\n",
    "    Stacking string\n",
    "    Step1. Count the number of the tab\n",
    "    Step2. Get the file name and Check the file was folder or .file\n",
    "    Step3. Stack the file name and the file depth\n",
    "    Step4. Get the max_file length if given at the Step2 file is .file else pass\n",
    "    \"\"\"\n",
    "    i = 0\n",
    "    j = 0\n",
    "    n = len(fileSystem)\n",
    "    max_str = \"\"\n",
    "    stack = []\n",
    "    while i < n:\n",
    "        tab_counter = 0\n",
    "        while i < n and fileSystem[i] == \"\\t\":\n",
    "            tab_counter += 1\n",
    "            i += 1\n",
    "        \n",
    "        init = i\n",
    "        folder_or_file = False\n",
    "        while i < n and fileSystem[i] != (\"\\f\"):\n",
    "            if fileSystem[i] == \".\": \n",
    "                folder_or_file = True\n",
    "            i += 1\n",
    "        \n",
    "        while stack and tab_counter <= stack[-1][1]: stack.pop()\n",
    "        stack.append([fileSystem[init:i], tab_counter])\n",
    "        \n",
    "        if folder_or_file:\n",
    "            tmp_str = '/'.join(word for word, lvl in stack)\n",
    "            if len(tmp_str) > len(max_str): \n",
    "                max_str = tmp_str\n",
    "        i += 1\n",
    "    \n",
    "        \n",
    "    return len(max_str)\n",
    "        \n",
    "    \n",
    "    \n"
   ]
  },
  {
   "cell_type": "code",
   "execution_count": null,
   "metadata": {
    "collapsed": true
   },
   "outputs": [],
   "source": []
  }
 ],
 "metadata": {
  "kernelspec": {
   "display_name": "Python [conda env:Anaconda3]",
   "language": "python",
   "name": "conda-env-Anaconda3-py"
  },
  "language_info": {
   "codemirror_mode": {
    "name": "ipython",
    "version": 3
   },
   "file_extension": ".py",
   "mimetype": "text/x-python",
   "name": "python",
   "nbconvert_exporter": "python",
   "pygments_lexer": "ipython3",
   "version": "3.5.2"
  }
 },
 "nbformat": 4,
 "nbformat_minor": 2
}
