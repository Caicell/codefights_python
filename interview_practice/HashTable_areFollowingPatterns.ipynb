{
 "cells": [
  {
   "cell_type": "code",
   "execution_count": 1,
   "metadata": {
    "collapsed": true
   },
   "outputs": [],
   "source": [
    "def areFollowingPatterns(strings, patterns):\n",
    "    \"\"\"\n",
    "    Space: O(n) Time: O(n)\n",
    "    - Where Dict[string[i]] = patterns[i]\n",
    "    - Then Check if string[j] in Dict: patterns[j] != Dict[strings[j]]  -> return False\n",
    "    - Return True\n",
    "    \"\"\"\n",
    "    reference_by_str = dict()\n",
    "    reference_by_pat = dict()\n",
    "    for i, (string, pattern) in enumerate(zip(strings, patterns)):\n",
    "        if string in reference_by_str and reference_by_str[string] != pattern:\n",
    "            return False\n",
    "        reference_by_str[string] = pattern\n",
    "        if pattern in reference_by_pat and reference_by_pat[pattern] != string:\n",
    "            return False\n",
    "        reference_by_pat[pattern] = string\n",
    "    return True\n",
    "    "
   ]
  },
  {
   "cell_type": "code",
   "execution_count": null,
   "metadata": {
    "collapsed": true
   },
   "outputs": [],
   "source": []
  }
 ],
 "metadata": {
  "anaconda-cloud": {},
  "kernelspec": {
   "display_name": "Python [conda env:Anaconda3]",
   "language": "python",
   "name": "conda-env-Anaconda3-py"
  },
  "language_info": {
   "codemirror_mode": {
    "name": "ipython",
    "version": 3
   },
   "file_extension": ".py",
   "mimetype": "text/x-python",
   "name": "python",
   "nbconvert_exporter": "python",
   "pygments_lexer": "ipython3",
   "version": "3.5.2"
  }
 },
 "nbformat": 4,
 "nbformat_minor": 2
}
