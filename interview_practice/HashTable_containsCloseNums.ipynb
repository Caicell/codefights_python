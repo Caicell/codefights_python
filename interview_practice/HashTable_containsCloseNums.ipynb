{
 "cells": [
  {
   "cell_type": "code",
   "execution_count": 1,
   "metadata": {
    "collapsed": true
   },
   "outputs": [],
   "source": [
    "def containsCloseNums(nums, k):\n",
    "    \"\"\"\n",
    "    #Space : O(n) Time : O(n)\n",
    "    Step1. Record the last position of the number\n",
    "    Step2. if the key already exists in the dict, compare the position gap\n",
    "    Step3. Set a new position to the key\n",
    "    \"\"\"\n",
    "    last_pos = dict()\n",
    "    for i, num in enumerate(nums):\n",
    "        if num in last_pos and i - last_pos[num] <= k:\n",
    "            return True\n",
    "        last_pos[num] = i\n",
    "    return False\n",
    "    \n",
    "    "
   ]
  },
  {
   "cell_type": "code",
   "execution_count": null,
   "metadata": {
    "collapsed": true
   },
   "outputs": [],
   "source": []
  }
 ],
 "metadata": {
  "anaconda-cloud": {},
  "kernelspec": {
   "display_name": "Python [conda env:Anaconda3]",
   "language": "python",
   "name": "conda-env-Anaconda3-py"
  },
  "language_info": {
   "codemirror_mode": {
    "name": "ipython",
    "version": 3
   },
   "file_extension": ".py",
   "mimetype": "text/x-python",
   "name": "python",
   "nbconvert_exporter": "python",
   "pygments_lexer": "ipython3",
   "version": "3.5.2"
  }
 },
 "nbformat": 4,
 "nbformat_minor": 2
}
