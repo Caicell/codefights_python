{
 "cells": [
  {
   "cell_type": "code",
   "execution_count": 1,
   "metadata": {
    "collapsed": true
   },
   "outputs": [],
   "source": [
    "from collections import defaultdict\n",
    "def groupingDishes(dishes):\n",
    "    \"\"\"\n",
    "    Time: O(n) Space : O(n)\n",
    "    Step1. Make the dict, ingredient : key, cook : value\n",
    "    Step2. Where len(cookList) > = 2, get the [key] + sorted(cookList)\n",
    "    Step3. To make lexicographically order, sorted by the ing\n",
    "    \"\"\"\n",
    "    groupDish = defaultdict(list)\n",
    "    for cook, *ingredient in dishes:\n",
    "        for x in ingredient:\n",
    "            groupDish[x].append(cook)\n",
    "    \n",
    "    groupingDish = ([ingredient] + sorted(cookList) for ingredient, cookList in groupDish.items() if len(cookList) >= 2)\n",
    "    return sorted(groupingDish, key = lambda x: x[0])"
   ]
  },
  {
   "cell_type": "code",
   "execution_count": null,
   "metadata": {
    "collapsed": true
   },
   "outputs": [],
   "source": []
  }
 ],
 "metadata": {
  "kernelspec": {
   "display_name": "Python [conda env:Anaconda3]",
   "language": "python",
   "name": "conda-env-Anaconda3-py"
  },
  "language_info": {
   "codemirror_mode": {
    "name": "ipython",
    "version": 3
   },
   "file_extension": ".py",
   "mimetype": "text/x-python",
   "name": "python",
   "nbconvert_exporter": "python",
   "pygments_lexer": "ipython3",
   "version": "3.5.2"
  }
 },
 "nbformat": 4,
 "nbformat_minor": 2
}
