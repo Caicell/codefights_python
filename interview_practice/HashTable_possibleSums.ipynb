{
 "cells": [
  {
   "cell_type": "code",
   "execution_count": null,
   "metadata": {
    "collapsed": true
   },
   "outputs": [],
   "source": [
    "from collections import defaultdict\n",
    "def possibleSums(coins, quantity):\n",
    "    \"\"\"\n",
    "    Step1. Let know the number of each coin to use\n",
    "    Step2. Try to exchange the big coin to the small coin (if 1 : #3 2)\n",
    "    \"\"\"\n",
    "\n",
    "    coin_num = defaultdict(int)\n",
    "    for coin, num in zip(coins, quantity):\n",
    "        coin_num[coin] += num\n",
    "    asc_coin_num = [[coin, coin_num[coin]] for coin in sorted(coin_num.keys())]\n",
    "    res_coin = []\n",
    "    for coin, num in asc_coin_num:\n",
    "        res = True\n",
    "        for i, coin_sub in enumerate(res_coin):\n",
    "            time, left = divmod(coin, coin_sub[0])\n",
    "            if left == 0 and time <= coin_sub[1]:\n",
    "                coin_sub[1] += (num * time)\n",
    "                res = False\n",
    "                break\n",
    "        if res: res_coin.append([coin, num])\n",
    "\n",
    "    sums = {0}\n",
    "    for coin, num in res_coin:\n",
    "        sums |= {cur_val + coin_val\n",
    "                for coin_val in range(coin, coin * (num+1), coin)\n",
    "                for cur_val in sums}\n",
    "    return len(sums) - 1"
   ]
  }
 ],
 "metadata": {
  "anaconda-cloud": {},
  "kernelspec": {
   "display_name": "Python [conda env:Anaconda3]",
   "language": "python",
   "name": "conda-env-Anaconda3-py"
  },
  "language_info": {
   "codemirror_mode": {
    "name": "ipython",
    "version": 3
   },
   "file_extension": ".py",
   "mimetype": "text/x-python",
   "name": "python",
   "nbconvert_exporter": "python",
   "pygments_lexer": "ipython3",
   "version": "3.5.2"
  }
 },
 "nbformat": 4,
 "nbformat_minor": 2
}
