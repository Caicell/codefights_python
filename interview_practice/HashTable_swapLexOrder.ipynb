{
 "cells": [
  {
   "cell_type": "code",
   "execution_count": 1,
   "metadata": {
    "collapsed": true
   },
   "outputs": [],
   "source": [
    "def swapLexOrder(str, pairs):\n",
    "    \"\"\"\n",
    "    This problem is exciting!\n",
    "    I should access this problem like a Mathematic proof that starting from the end.\n",
    "    \n",
    "    1) What I should get? The largest Strings\n",
    "    2) How to get it? Use a part of pairs (We can use it or not)\n",
    "    3) What relationship pair has?\n",
    "        - Link if they have a duplicated element: [1,2], [2,3] -> [1,2,3]\n",
    "        - The String on the elemend of the link can move them anywhere inside.\n",
    "        ex) 'abc' -> 'cba'\n",
    "    4) How to use this relationship?\n",
    "        - To link pairs which are allowable to each other\n",
    "    5. How to Link them? Like the follow :)\n",
    "    \"\"\"\n",
    "    n = len(str)\n",
    "    str = list(str)\n",
    "\n",
    "    corr = [set() for _ in range(n)]\n",
    "    nodes = set()\n",
    "    for a, b in pairs:\n",
    "        corr[a-1].add(b-1)\n",
    "        corr[b-1].add(a-1)\n",
    "        nodes.add(a-1)\n",
    "        nodes.add(b-1)\n",
    "\n",
    "    while nodes:\n",
    "        active = {nodes.pop()}\n",
    "        group = set()\n",
    "        while active:\n",
    "            group |= active\n",
    "            nodes -= active\n",
    "            active = {y for x in active for y in corr[x] if y in nodes}\n",
    "\n",
    "        chars = iter(sorted((str[i] for i in group), reverse=True))\n",
    "        for i in sorted(group):\n",
    "            str[i] = next(chars)\n",
    "\n",
    "    return \"\".join(str)"
   ]
  },
  {
   "cell_type": "code",
   "execution_count": null,
   "metadata": {
    "collapsed": true
   },
   "outputs": [],
   "source": []
  }
 ],
 "metadata": {
  "anaconda-cloud": {},
  "kernelspec": {
   "display_name": "Python [conda env:Anaconda3]",
   "language": "python",
   "name": "conda-env-Anaconda3-py"
  },
  "language_info": {
   "codemirror_mode": {
    "name": "ipython",
    "version": 3
   },
   "file_extension": ".py",
   "mimetype": "text/x-python",
   "name": "python",
   "nbconvert_exporter": "python",
   "pygments_lexer": "ipython3",
   "version": "3.5.2"
  }
 },
 "nbformat": 4,
 "nbformat_minor": 2
}
