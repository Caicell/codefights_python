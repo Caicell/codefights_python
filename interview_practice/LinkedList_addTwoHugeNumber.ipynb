{
 "cells": [
  {
   "cell_type": "code",
   "execution_count": 1,
   "metadata": {
    "collapsed": true
   },
   "outputs": [],
   "source": [
    "def addTwoHugeNumbers(a, b):\n",
    "    \"\"\"\n",
    "    Time: O(n) Space: O(n)\n",
    "    Step1. Convert the each element of list a,b into integer\n",
    "    Step2. if valSum == 0: return 0 ListNode\n",
    "    Step3. Else: get the digits from the tail by the unit 10000\n",
    "        - ex: valSum == 12345000\n",
    "        - [5, 1234]\n",
    "    Step4. Construct the ListNode on the reverse order of list\n",
    "        - [1234] -> [5]\n",
    "    \"\"\"\n",
    "    \n",
    "    valSum = converter(a) + converter(b)\n",
    "    if valSum == 0: return ListNode(0)\n",
    "    \n",
    "    res = []\n",
    "    while valSum >= 1:\n",
    "        valSum, part = divmod(valSum,10000)\n",
    "        res.append(part)\n",
    "    head = fake = ListNode(-1)\n",
    "    for val in reversed(res):\n",
    "        fake.next = ListNode(val)\n",
    "        fake = fake.next\n",
    "    return head.next\n",
    "\n",
    "def converter(l):\n",
    "    if not l: return 0\n",
    "    value = l.value\n",
    "    l = l.next\n",
    "    while l:\n",
    "        value = value * 10000 + l.value\n",
    "        l = l.next\n",
    "    return value\n",
    "        \n",
    "        \n",
    "    "
   ]
  },
  {
   "cell_type": "code",
   "execution_count": null,
   "metadata": {
    "collapsed": true
   },
   "outputs": [],
   "source": []
  }
 ],
 "metadata": {
  "kernelspec": {
   "display_name": "Python [conda env:Anaconda3]",
   "language": "python",
   "name": "conda-env-Anaconda3-py"
  },
  "language_info": {
   "codemirror_mode": {
    "name": "ipython",
    "version": 3
   },
   "file_extension": ".py",
   "mimetype": "text/x-python",
   "name": "python",
   "nbconvert_exporter": "python",
   "pygments_lexer": "ipython3",
   "version": "3.5.2"
  }
 },
 "nbformat": 4,
 "nbformat_minor": 2
}
