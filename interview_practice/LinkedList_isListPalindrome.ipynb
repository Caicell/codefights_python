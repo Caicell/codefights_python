{
 "cells": [
  {
   "cell_type": "code",
   "execution_count": 1,
   "metadata": {
    "collapsed": true
   },
   "outputs": [],
   "source": [
    "def isListPalindrome(l):\n",
    "    \"\"\"\n",
    "    Time: O(n) Space: O(1)\n",
    "    Step 1. Measure the total length\n",
    "    Step 2. Get the mid node\n",
    "    Step 3. Reverse from the mid node\n",
    "    Step 4. Compare each node if same goes to both of the next nodes, otherwise return False\n",
    "    Step 5. When The right half is None, return True\n",
    "    Ex:\n",
    "    1 2 3 4 3 2 1\n",
    "    Step1. totlal Length = 7\n",
    "    Step2. mid Node 4\n",
    "    Step3. Reverse from the mid node\n",
    "     - a Half of the left part: 1 2 3 4 (...)\n",
    "     - a Half of hte right part: 1 2 3 4 None\n",
    "    Step4. Compare each node if same goes to both of the next nodes\n",
    "     - Left: 1 2 3 4\n",
    "             o o o o \n",
    "     _ Right: 1 2 3 4 None\n",
    "    Step5. True\n",
    "    \"\"\"\n",
    "    n = 0\n",
    "    fake = l\n",
    "    while fake:\n",
    "        n += 1\n",
    "        fake = fake.next\n",
    "    bk = l\n",
    "    time = n // 2\n",
    "    for _ in range(time): bk = bk.next\n",
    "    bk = recursive(bk)\n",
    "    while bk:\n",
    "        if l.value != bk.value: return False\n",
    "        l, bk = l.next, bk.next\n",
    "        \n",
    "    return True\n",
    "\n",
    "def recursive(curNode):\n",
    "    #curNode has to be existed\n",
    "    #node1(cur) node2(writ) node3 node4\n",
    "    if not curNode: return None\n",
    "    \n",
    "    record = curNode\n",
    "    writtenNode = curNode.next\n",
    "    while writtenNode:\n",
    "        #node1(cur) node2(writ) node3(fut) node4\n",
    "        #node2(writ) node1(cur) node3(fut) node4\n",
    "        #node2(cur) node1() node3(writ) None\n",
    "        futNode = writtenNode.next\n",
    "        writtenNode.next = curNode\n",
    "        curNode, writtenNode = writtenNode, futNode\n",
    "    record.next = None\n",
    "    return curNode\n"
   ]
  },
  {
   "cell_type": "code",
   "execution_count": null,
   "metadata": {
    "collapsed": true
   },
   "outputs": [],
   "source": []
  }
 ],
 "metadata": {
  "kernelspec": {
   "display_name": "Python [conda env:Anaconda3]",
   "language": "python",
   "name": "conda-env-Anaconda3-py"
  },
  "language_info": {
   "codemirror_mode": {
    "name": "ipython",
    "version": 3
   },
   "file_extension": ".py",
   "mimetype": "text/x-python",
   "name": "python",
   "nbconvert_exporter": "python",
   "pygments_lexer": "ipython3",
   "version": "3.5.2"
  }
 },
 "nbformat": 4,
 "nbformat_minor": 2
}
