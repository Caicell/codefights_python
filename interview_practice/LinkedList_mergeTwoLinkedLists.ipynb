{
 "cells": [
  {
   "cell_type": "code",
   "execution_count": 1,
   "metadata": {
    "collapsed": true
   },
   "outputs": [],
   "source": [
    "def mergeTwoLinkedLists(l1, l2):\n",
    "    \"\"\"\n",
    "    Time: O(n) Space: O(1)\n",
    "    It was completely identical with merge sort!\n",
    "    1. Compare the two list and attach a value and goes to the next node where the node has the smaller one\n",
    "    2. And connect\n",
    "    \"\"\"\n",
    "    dummyNode = fake = ListNode(-1)\n",
    "    \n",
    "    while l1 and l2:\n",
    "        if l1.value < l2.value: \n",
    "            nextNode = l1\n",
    "            l1 = l1.next\n",
    "        else: \n",
    "            nextNode = l2\n",
    "            l2 = l2.next\n",
    "        \n",
    "        fake.next = nextNode\n",
    "        fake = fake.next\n",
    "    \n",
    "    if l1: fake.next = l1\n",
    "    if l2: fake.next = l2\n",
    "    \n",
    "    return dummyNode.next\n",
    "        \n"
   ]
  },
  {
   "cell_type": "code",
   "execution_count": null,
   "metadata": {
    "collapsed": true
   },
   "outputs": [],
   "source": []
  }
 ],
 "metadata": {
  "anaconda-cloud": {},
  "kernelspec": {
   "display_name": "Python [conda env:Anaconda3]",
   "language": "python",
   "name": "conda-env-Anaconda3-py"
  },
  "language_info": {
   "codemirror_mode": {
    "name": "ipython",
    "version": 3
   },
   "file_extension": ".py",
   "mimetype": "text/x-python",
   "name": "python",
   "nbconvert_exporter": "python",
   "pygments_lexer": "ipython3",
   "version": "3.5.2"
  }
 },
 "nbformat": 4,
 "nbformat_minor": 2
}
