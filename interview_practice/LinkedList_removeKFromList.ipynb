{
 "cells": [
  {
   "cell_type": "code",
   "execution_count": 1,
   "metadata": {
    "collapsed": true
   },
   "outputs": [],
   "source": [
    "def removeKFromList(l, k):\n",
    "    \"\"\"\n",
    "    Space: O(1) Time: O(n)\n",
    "    1. If node.next.value is identical to \"k\", find the node among the following consecutive nodes which doesn't have a value \"k\"\n",
    "        - And connect the current node & the next node\n",
    "    2. Move to the next node\n",
    "    Ex:\n",
    "    k = 1\n",
    "    l = 0 -> 1 -> 1 -> 2 -> 3\n",
    "    \n",
    "    head = fake = -1 -> 0(where l) -> ..\n",
    "    On the first looping, fake = -1 / end = None, fake = 0\n",
    "    On the second looping, fake = 0 / end = 2, fake.next = end / fake = 2 \n",
    "    ...\n",
    "    \"\"\"\n",
    "    \n",
    "    head = fake = ListNode(k-1)\n",
    "    fake.next = l\n",
    "    while fake:\n",
    "        if fake.next and fake.next.value == k:\n",
    "            end = fake.next\n",
    "            while end and end.value == k:\n",
    "                end = end.next\n",
    "            fake.next = end\n",
    "        fake = fake.next\n",
    "    return head.next\n",
    "            \n",
    "    "
   ]
  },
  {
   "cell_type": "code",
   "execution_count": null,
   "metadata": {
    "collapsed": true
   },
   "outputs": [],
   "source": []
  }
 ],
 "metadata": {
  "anaconda-cloud": {},
  "kernelspec": {
   "display_name": "Python [conda env:Anaconda3]",
   "language": "python",
   "name": "conda-env-Anaconda3-py"
  },
  "language_info": {
   "codemirror_mode": {
    "name": "ipython",
    "version": 3
   },
   "file_extension": ".py",
   "mimetype": "text/x-python",
   "name": "python",
   "nbconvert_exporter": "python",
   "pygments_lexer": "ipython3",
   "version": "3.5.2"
  }
 },
 "nbformat": 4,
 "nbformat_minor": 2
}
