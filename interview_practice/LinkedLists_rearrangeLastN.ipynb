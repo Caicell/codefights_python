{
 "cells": [
  {
   "cell_type": "code",
   "execution_count": 1,
   "metadata": {
    "collapsed": true
   },
   "outputs": [],
   "source": [
    "def rearrangeLastN(l, n):\n",
    "    \"\"\"\n",
    "    Time: O(n) Space: O(1)\n",
    "    1. Measure the totLen\n",
    "    2. Suppose n1-th node is the n-th node from the end\n",
    "    3. Set last, the (n-1)1-th node and head = start, (n1)th node\n",
    "    4. until start.next go to end while loop\n",
    "    5. when start.next is none, start.next = l, where l is the original first node\n",
    "    6. then the last.next = None\n",
    "    7. return head\n",
    "    \n",
    "    Outlier detection\n",
    "    1. if l is None or n == 0: return l\n",
    "    2. n == totLen, return the same l\n",
    "    \"\"\"\n",
    "    if l is None or n == 0:\n",
    "        return l\n",
    "    #Step1. Measure the totLen\n",
    "    cnt = 0\n",
    "    node = l\n",
    "    while node:\n",
    "        cnt += 1\n",
    "        node = node.next\n",
    "    if cnt == n: return l\n",
    "    \n",
    "    #Step2. Suppose n-1th node is the n-the node from the end\n",
    "    #totCnt 7, n = 1 -> 5 times go to the previous one\n",
    "    cnt = cnt - n - 1\n",
    "    node = l\n",
    "    for _ in range(cnt):\n",
    "        node = node.next\n",
    "    #Step3. Set last, the (n-1)1-th node and head = start, (n1)th node\n",
    "    last, start = node, node.next\n",
    "    head = start\n",
    "    \n",
    "    #Step4. until start.next go to end while loop\n",
    "    while start.next:\n",
    "        start = start.next\n",
    "    #Step5. when start.next is none, start.next = l, where l is the original first node\n",
    "    start.next = l\n",
    "    #Step 6. then the last.next = None\n",
    "    last.next = None\n",
    "    #Step 7. return head\n",
    "    return head\n",
    "    "
   ]
  },
  {
   "cell_type": "code",
   "execution_count": null,
   "metadata": {
    "collapsed": true
   },
   "outputs": [],
   "source": []
  }
 ],
 "metadata": {
  "anaconda-cloud": {},
  "kernelspec": {
   "display_name": "Python [conda env:Anaconda3]",
   "language": "python",
   "name": "conda-env-Anaconda3-py"
  },
  "language_info": {
   "codemirror_mode": {
    "name": "ipython",
    "version": 3
   },
   "file_extension": ".py",
   "mimetype": "text/x-python",
   "name": "python",
   "nbconvert_exporter": "python",
   "pygments_lexer": "ipython3",
   "version": "3.5.2"
  }
 },
 "nbformat": 4,
 "nbformat_minor": 2
}
