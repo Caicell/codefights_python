{
 "cells": [
  {
   "cell_type": "code",
   "execution_count": 2,
   "metadata": {
    "collapsed": true
   },
   "outputs": [],
   "source": [
    "def reverseNodesInKGroups(l, k):\n",
    "    \"\"\"\n",
    "    Time : O(n) Space : O(1)\n",
    "    Step1. if k == 1: just return the identical node to avoid wasting time\n",
    "    Step2. Measure the total Length\n",
    "    Step3. i = 0*k i+1~i+k_th nodes reversed\n",
    "    \"\"\"\n",
    "    #Step1. k == 1 or Not\n",
    "    if k == 1: return l\n",
    "\n",
    "    #Step2. Measure The TotLen\n",
    "    fake = l\n",
    "    totLen = 0\n",
    "    while fake:\n",
    "        totLen += 1\n",
    "        fake = fake.next\n",
    "    \n",
    "    #Step3. Reverse K groups\n",
    "        #1) prv node -> [ k groups] -> nxt\n",
    "        #2) prv node -> reversed([k groups]) -> nxt\n",
    "    dumy = prv = ListNode(1)\n",
    "    prv.next = l\n",
    "    while totLen >= k:\n",
    "        cur = ed = prv.next\n",
    "        nxt = cur.next\n",
    "        for _ in range(k-1):\n",
    "            fut = nxt.next\n",
    "            nxt.next = cur\n",
    "            cur, nxt = nxt, fut\n",
    "        prv.next = cur\n",
    "        \n",
    "        ed.next = nxt\n",
    "        prv = ed\n",
    "        totLen -= k\n",
    "        \n",
    "    return dumy.next"
   ]
  },
  {
   "cell_type": "code",
   "execution_count": null,
   "metadata": {
    "collapsed": true
   },
   "outputs": [],
   "source": []
  }
 ],
 "metadata": {
  "anaconda-cloud": {},
  "kernelspec": {
   "display_name": "Python [conda env:Anaconda3]",
   "language": "python",
   "name": "conda-env-Anaconda3-py"
  },
  "language_info": {
   "codemirror_mode": {
    "name": "ipython",
    "version": 3
   },
   "file_extension": ".py",
   "mimetype": "text/x-python",
   "name": "python",
   "nbconvert_exporter": "python",
   "pygments_lexer": "ipython3",
   "version": "3.5.2"
  }
 },
 "nbformat": 4,
 "nbformat_minor": 2
}
