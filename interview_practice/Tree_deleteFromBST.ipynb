{
 "cells": [
  {
   "cell_type": "code",
   "execution_count": null,
   "metadata": {
    "collapsed": true
   },
   "outputs": [],
   "source": [
    "def deleteFromBST(t, queries):\n",
    "    if not t:\n",
    "        return\n",
    "    for query in queries:\n",
    "        t = recursive_deletion(t,query)\n",
    "    return t\n",
    "\n",
    "def max_tree(t):\n",
    "    while t.right:\n",
    "        t = t.right\n",
    "    return t.value\n",
    "\n",
    "def remove_tree(t):\n",
    "    if not t.right:\n",
    "        return t.left\n",
    "    else:\n",
    "        t.right = remove_tree(t.right)\n",
    "    return t\n",
    "\n",
    "def recursive_deletion(t, query):\n",
    "    if not t: \n",
    "        return None\n",
    "    if t.value == query:\n",
    "        if t.left:\n",
    "            t.value = max_tree(t.left)\n",
    "            t.left = remove_tree(t.left)\n",
    "        else:\n",
    "            t = t.right\n",
    "    elif t.value < query:\n",
    "        t.right = recursive_deletion(t.right, query)\n",
    "    elif t.value > query:\n",
    "        t.left = recursive_deletion(t.left, query)\n",
    "    return t\n",
    "    \n",
    "    \n",
    "    "
   ]
  }
 ],
 "metadata": {
  "anaconda-cloud": {},
  "kernelspec": {
   "display_name": "Python [conda env:Anaconda3]",
   "language": "python",
   "name": "conda-env-Anaconda3-py"
  },
  "language_info": {
   "codemirror_mode": {
    "name": "ipython",
    "version": 3
   },
   "file_extension": ".py",
   "mimetype": "text/x-python",
   "name": "python",
   "nbconvert_exporter": "python",
   "pygments_lexer": "ipython3",
   "version": "3.5.2"
  }
 },
 "nbformat": 4,
 "nbformat_minor": 2
}
