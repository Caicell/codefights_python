{
 "cells": [
  {
   "cell_type": "code",
   "execution_count": 1,
   "metadata": {
    "collapsed": true
   },
   "outputs": [],
   "source": [
    "def findProfession(level, pos):\n",
    "\n",
    "    \"\"\"\n",
    "    Recursive problem: Diagonose the Parent of the pos\n",
    "    1. if the parent of the current pos is Doctor, determine the current job by pos % 2 == 0 -> 'Docter' else 'Engineer'\n",
    "    2. Else, determine the current job by pos % 2 == 1 -> 'Docter' else 'Engineer'\n",
    "    3. Initial Condition: level == 1 -> 'Engneer'\n",
    "    \"\"\"\n",
    "    if level == 1: return 'Engineer'\n",
    "    if findProfession(level-1, (pos+1)//2) == 'Doctor':\n",
    "        return 'Doctor' if pos % 2 else 'Engineer'\n",
    "    return 'Engineer' if pos % 2 else 'Doctor'\n"
   ]
  },
  {
   "cell_type": "code",
   "execution_count": null,
   "metadata": {
    "collapsed": true
   },
   "outputs": [],
   "source": []
  }
 ],
 "metadata": {
  "anaconda-cloud": {},
  "kernelspec": {
   "display_name": "Python [conda env:Anaconda3]",
   "language": "python",
   "name": "conda-env-Anaconda3-py"
  },
  "language_info": {
   "codemirror_mode": {
    "name": "ipython",
    "version": 3
   },
   "file_extension": ".py",
   "mimetype": "text/x-python",
   "name": "python",
   "nbconvert_exporter": "python",
   "pygments_lexer": "ipython3",
   "version": "3.5.2"
  }
 },
 "nbformat": 4,
 "nbformat_minor": 2
}
