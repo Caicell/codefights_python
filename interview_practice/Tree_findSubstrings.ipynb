{
 "cells": [
  {
   "cell_type": "code",
   "execution_count": 2,
   "metadata": {
    "collapsed": true
   },
   "outputs": [],
   "source": [
    "class TrieNode(object):\n",
    "    \n",
    "    def __init__(self, letter):\n",
    "        self.letter = letter\n",
    "        self.terminal = False\n",
    "        self.children = {}\n",
    "\n",
    "def findSubstrings(words, parts):\n",
    "    \n",
    "    def append_char(root, part):\n",
    "        current_node = root\n",
    "        for letter in part:\n",
    "            if letter not in current_node.children:\n",
    "                current_node.children[letter] = TrieNode(letter)\n",
    "            current_node = current_node.children[letter]\n",
    "        current_node.terminal = True\n",
    "                \n",
    "    def find_pair(root, word):\n",
    "        max_pos, max_len = -1, -1\n",
    "        n = len(word)\n",
    "        for i in range(n):\n",
    "            current_node = root\n",
    "            for j in range(i,n):\n",
    "                if word[j] not in current_node.children:\n",
    "                    break\n",
    "                current_node = current_node.children[word[j]]\n",
    "                if current_node.terminal and max_len < j - i + 1:\n",
    "                    max_len = j - i + 1\n",
    "                    max_pos = i\n",
    "    \n",
    "        if max_pos == -1: return word\n",
    "        else: return word[:max_pos] + \"[\" + word[max_pos:max_pos+max_len] + \"]\" + word[max_pos+max_len:]\n",
    "    \n",
    "    root = TrieNode('')\n",
    "    for part in parts: append_char(root,part)\n",
    "    return [find_pair(root, word) for word in words]\n",
    "              \n",
    "    "
   ]
  },
  {
   "cell_type": "code",
   "execution_count": null,
   "metadata": {
    "collapsed": true
   },
   "outputs": [],
   "source": []
  }
 ],
 "metadata": {
  "anaconda-cloud": {},
  "kernelspec": {
   "display_name": "Python [conda env:Anaconda3]",
   "language": "python",
   "name": "conda-env-Anaconda3-py"
  },
  "language_info": {
   "codemirror_mode": {
    "name": "ipython",
    "version": 3
   },
   "file_extension": ".py",
   "mimetype": "text/x-python",
   "name": "python",
   "nbconvert_exporter": "python",
   "pygments_lexer": "ipython3",
   "version": "3.5.2"
  }
 },
 "nbformat": 4,
 "nbformat_minor": 2
}
