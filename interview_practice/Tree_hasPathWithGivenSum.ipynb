{
 "cells": [
  {
   "cell_type": "code",
   "execution_count": 1,
   "metadata": {
    "collapsed": true
   },
   "outputs": [],
   "source": [
    "def hasPathWithGivenSum(t, s):\n",
    "    \"\"\"\n",
    "    1. Recursive\n",
    "    - Until no left and no right, calcaulate over and over\n",
    "    \"\"\"\n",
    "    if not t:\n",
    "        if s == 0: return True\n",
    "        else: return False\n",
    "\n",
    "    def helper(t,s):\n",
    "        if not t:\n",
    "            return False\n",
    "        val = s - t.value\n",
    "        if not t.left and not t.right:\n",
    "            if val == 0: return True\n",
    "            else: return False    \n",
    "        return helper(t.left, val) or helper(t.right, val)\n",
    "\n",
    "    return helper(t,s)\n"
   ]
  },
  {
   "cell_type": "code",
   "execution_count": null,
   "metadata": {
    "collapsed": true
   },
   "outputs": [],
   "source": []
  }
 ],
 "metadata": {
  "anaconda-cloud": {},
  "kernelspec": {
   "display_name": "Python [conda env:Anaconda3]",
   "language": "python",
   "name": "conda-env-Anaconda3-py"
  },
  "language_info": {
   "codemirror_mode": {
    "name": "ipython",
    "version": 3
   },
   "file_extension": ".py",
   "mimetype": "text/x-python",
   "name": "python",
   "nbconvert_exporter": "python",
   "pygments_lexer": "ipython3",
   "version": "3.5.2"
  }
 },
 "nbformat": 4,
 "nbformat_minor": 2
}
