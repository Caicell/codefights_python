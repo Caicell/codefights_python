{
 "cells": [
  {
   "cell_type": "code",
   "execution_count": 2,
   "metadata": {
    "collapsed": true
   },
   "outputs": [],
   "source": [
    "def isSubtree(t1, t2):\n",
    "    \"\"\"\n",
    "    Time : O(n) for all nodes of t1 * O(m) for all node of t2#\n",
    "    - helpChecker. Where the value of a node of t1 is eqaul to the value of the root of t2\n",
    "    - If both of the values of the nodes are same, try to investigate the children node!\n",
    "    \"\"\"\n",
    "\n",
    "    if not t2 and not t1: return True\n",
    "    if not t1: return False\n",
    "    if not t2: return True\n",
    "    \n",
    "    return helpChecker(t1,t2) or isSubtree(t1.left, t2) or isSubtree(t1.right,t2)\n",
    "\n",
    "def helpChecker(t1,t2):\n",
    "    #Version1. --abc--, abc is False, --abc, abs is True\n",
    "    if not t2 and not t1: return True\n",
    "    if not t1 or not t2: return False\n",
    "    \n",
    "    if t1.value == t2.value: \n",
    "        return helpChecker(t1.left, t2.left) and helpChecker(t1.right, t2.right)\n",
    "    return False\n"
   ]
  },
  {
   "cell_type": "code",
   "execution_count": null,
   "metadata": {
    "collapsed": true
   },
   "outputs": [],
   "source": []
  }
 ],
 "metadata": {
  "anaconda-cloud": {},
  "kernelspec": {
   "display_name": "Python [conda env:Anaconda3]",
   "language": "python",
   "name": "conda-env-Anaconda3-py"
  },
  "language_info": {
   "codemirror_mode": {
    "name": "ipython",
    "version": 3
   },
   "file_extension": ".py",
   "mimetype": "text/x-python",
   "name": "python",
   "nbconvert_exporter": "python",
   "pygments_lexer": "ipython3",
   "version": "3.5.2"
  }
 },
 "nbformat": 4,
 "nbformat_minor": 2
}
