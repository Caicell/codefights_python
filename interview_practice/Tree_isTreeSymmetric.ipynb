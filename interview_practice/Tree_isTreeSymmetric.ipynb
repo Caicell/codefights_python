{
 "cells": [
  {
   "cell_type": "code",
   "execution_count": 1,
   "metadata": {
    "collapsed": true
   },
   "outputs": [],
   "source": [
    "def isTreeSymmetric(t):\n",
    "\n",
    "    \"\"\"\n",
    "    Time: O(n) Space: O(1)\n",
    "    1. Use Breadth First Algorithm\n",
    "    2. Staking the next level\n",
    "    3. And check the stack whether is symmetric or Not\n",
    "    \"\"\"\n",
    "    if not t: return True\n",
    "    stack = [t]\n",
    "    while stack:\n",
    "        tmp = []\n",
    "        for node in stack:\n",
    "            tmp.append(node.left)\n",
    "            tmp.append(node.right)\n",
    "        st, ed = 0, len(tmp)-1\n",
    "        while st < ed:\n",
    "            if not tmp[st] and not tmp[ed]: \n",
    "                st += 1\n",
    "                ed -= 1\n",
    "            elif not tmp[st] or not tmp[ed]:\n",
    "                return False\n",
    "            elif tmp[st].value == tmp[ed].value:\n",
    "                st += 1\n",
    "                ed -= 1\n",
    "            elif tmp[st].value != tmp[ed].value:\n",
    "                return False\n",
    "        stack = [node for node in tmp if node]\n",
    "    return True\n"
   ]
  },
  {
   "cell_type": "code",
   "execution_count": null,
   "metadata": {
    "collapsed": true
   },
   "outputs": [],
   "source": []
  }
 ],
 "metadata": {
  "kernelspec": {
   "display_name": "Python [conda env:Anaconda3]",
   "language": "python",
   "name": "conda-env-Anaconda3-py"
  },
  "language_info": {
   "codemirror_mode": {
    "name": "ipython",
    "version": 3
   },
   "file_extension": ".py",
   "mimetype": "text/x-python",
   "name": "python",
   "nbconvert_exporter": "python",
   "pygments_lexer": "ipython3",
   "version": "3.5.2"
  }
 },
 "nbformat": 4,
 "nbformat_minor": 2
}
