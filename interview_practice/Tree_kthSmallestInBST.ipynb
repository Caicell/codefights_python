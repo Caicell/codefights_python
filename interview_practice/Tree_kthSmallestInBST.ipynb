{
 "cells": [
  {
   "cell_type": "code",
   "execution_count": 1,
   "metadata": {
    "collapsed": true
   },
   "outputs": [],
   "source": [
    "def kthSmallestInBST(t, k):\n",
    "    \"\"\"\n",
    "    Inorder to traverse the increasing order!\n",
    "    1. Construct pos_lst, then every time to meet the node minus 1\n",
    "    2. if the pos_lst[0] == 0: get the [node.value]\n",
    "    3. Return node.value\n",
    "    \"\"\"\n",
    "    res = []\n",
    "    def search(t, k, res):\n",
    "        if not t or res: return       \n",
    "        search(t.left,k,res)\n",
    "        k[0] -= 1\n",
    "        if k[0] == 0: \n",
    "            res.append(t.value)\n",
    "        search(t.right,k,res)\n",
    "\n",
    "    search(t, [k], res)\n",
    "    return res[0]\n",
    "\n"
   ]
  },
  {
   "cell_type": "code",
   "execution_count": null,
   "metadata": {
    "collapsed": true
   },
   "outputs": [],
   "source": []
  }
 ],
 "metadata": {
  "anaconda-cloud": {},
  "kernelspec": {
   "display_name": "Python [conda env:Anaconda3]",
   "language": "python",
   "name": "conda-env-Anaconda3-py"
  },
  "language_info": {
   "codemirror_mode": {
    "name": "ipython",
    "version": 3
   },
   "file_extension": ".py",
   "mimetype": "text/x-python",
   "name": "python",
   "nbconvert_exporter": "python",
   "pygments_lexer": "ipython3",
   "version": "3.5.2"
  }
 },
 "nbformat": 4,
 "nbformat_minor": 2
}
