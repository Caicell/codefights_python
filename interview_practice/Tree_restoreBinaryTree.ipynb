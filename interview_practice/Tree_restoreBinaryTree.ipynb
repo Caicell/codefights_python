{
 "cells": [
  {
   "cell_type": "code",
   "execution_count": 1,
   "metadata": {
    "collapsed": true
   },
   "outputs": [],
   "source": [
    "def restoreBinaryTree(inorder, preorder):\n",
    "    \"\"\"\n",
    "    Recursive Problem\n",
    "    Step1. The first node of the preorder is \"root\" node\n",
    "    Step2. parent: The index of the inoder of the root.value\n",
    "    Step3. preorder[parent] is the last node of the root left subtree\n",
    "    Step4. So root.right = restoreBinaryTree(inorder[parent+1:], preorder[parent+1:]) where parent+1 is the starting index of the right subTree\n",
    "    Step5. root.left = restorBinaryTree(inorder[:parent], preorder[1:parent+1]), where inorder[parent] & preorder[0] had used as the root node\n",
    "    \"\"\"\n",
    "    \n",
    "    if not preorder:  return None\n",
    "    \n",
    "    head = fake = Tree(-1)\n",
    "    header = preorder[0]\n",
    "    \n",
    "    parent = None\n",
    "    for i, x in enumerate(inorder):\n",
    "        if x == header: parent = i\n",
    "    right_child = parent + 1\n",
    "    head.left = Tree(preorder[0])\n",
    "    head.left.right = restoreBinaryTree(inorder[right_child:], preorder[right_child:])\n",
    "    head.left.left = restoreBinaryTree(inorder[:parent], preorder[1:right_child])\n",
    "    return head.left\n",
    "    \n",
    "    "
   ]
  },
  {
   "cell_type": "code",
   "execution_count": null,
   "metadata": {
    "collapsed": true
   },
   "outputs": [],
   "source": []
  }
 ],
 "metadata": {
  "anaconda-cloud": {},
  "kernelspec": {
   "display_name": "Python [conda env:Anaconda3]",
   "language": "python",
   "name": "conda-env-Anaconda3-py"
  },
  "language_info": {
   "codemirror_mode": {
    "name": "ipython",
    "version": 3
   },
   "file_extension": ".py",
   "mimetype": "text/x-python",
   "name": "python",
   "nbconvert_exporter": "python",
   "pygments_lexer": "ipython3",
   "version": "3.5.2"
  }
 },
 "nbformat": 4,
 "nbformat_minor": 2
}
