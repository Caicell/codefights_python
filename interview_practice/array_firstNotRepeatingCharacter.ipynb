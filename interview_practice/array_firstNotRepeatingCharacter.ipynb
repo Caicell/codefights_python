{
 "cells": [
  {
   "cell_type": "code",
   "execution_count": 3,
   "metadata": {
    "collapsed": false
   },
   "outputs": [
    {
     "data": {
      "text/plain": [
       "'o'"
      ]
     },
     "execution_count": 3,
     "metadata": {},
     "output_type": "execute_result"
    }
   ],
   "source": [
    "def firstNotRepeatingCharacter(s):\n",
    "    \"\"\"\n",
    "    1. Time: O(n) Space: O(1)\n",
    "    - Compare the left index and the right index of char\n",
    "    \n",
    "    2. TIme: O(n) Space: O(1)\n",
    "    - Used list[26] which contains the number of appearance of the character by ord(char) - 97\n",
    "    - This can't be the answer because it didn't save the order\n",
    "    - nono if save the first appearance's position in list, it can be useful\n",
    "    \n",
    "    3. Time : O(n) Space: O(1)\n",
    "    - Used OrderDict\n",
    "    - record the number of appearance of the character\n",
    "    - And traverse the inserted order into OrderedDict\n",
    "        - If the value == 1: return the key\n",
    "    - All value is over 1, return '_'\n",
    "    \"\"\"\n",
    "    for c in s:\n",
    "        if s.index(c) == s.rindex(c):\n",
    "            return c\n",
    "    return '_'\n",
    "    \n",
    "def method2(s):\n",
    "    visit_report = [[0,0] for _ in range(26)]\n",
    "    for i,x in enumerate(s):\n",
    "        visit_report[ord(x) - 97][0] += 1\n",
    "        visit_report[ord(x) - 97][1] = i\n",
    "    \n",
    "    \n",
    "    min_pos =  min_cnt = len(s)\n",
    "    min_char = -1\n",
    "    for i, (cnt, pos) in enumerate(visit_report):\n",
    "        if 0 < cnt <= min_cnt and pos < min_pos:\n",
    "            min_cnt = cnt\n",
    "            min_pos = pos\n",
    "            min_char = i\n",
    "            \n",
    "    return chr(min_char+97) if min_cnt == 1 else '_'\n",
    "\n",
    "firstNotRepeatingCharacter('completelyandperfect')"
   ]
  },
  {
   "cell_type": "code",
   "execution_count": null,
   "metadata": {
    "collapsed": true
   },
   "outputs": [],
   "source": []
  }
 ],
 "metadata": {
  "anaconda-cloud": {},
  "kernelspec": {
   "display_name": "Python [conda env:Anaconda3]",
   "language": "python",
   "name": "conda-env-Anaconda3-py"
  },
  "language_info": {
   "codemirror_mode": {
    "name": "ipython",
    "version": 3
   },
   "file_extension": ".py",
   "mimetype": "text/x-python",
   "name": "python",
   "nbconvert_exporter": "python",
   "pygments_lexer": "ipython3",
   "version": "3.5.2"
  }
 },
 "nbformat": 4,
 "nbformat_minor": 2
}
