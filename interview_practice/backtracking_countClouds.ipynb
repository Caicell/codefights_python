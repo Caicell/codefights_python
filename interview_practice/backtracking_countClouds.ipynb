{
 "cells": [
  {
   "cell_type": "code",
   "execution_count": 1,
   "metadata": {
    "collapsed": true
   },
   "outputs": [],
   "source": [
    "def countClouds(skyMap):\n",
    "    cnt = 0\n",
    "    for i in range(len(skyMap)):\n",
    "        for j in range(len(skyMap[0])):\n",
    "            if skyMap[i][j] == \"1\":\n",
    "                cnt += 1\n",
    "                crushClouds(skyMap, i, j)\n",
    "    return cnt\n",
    "\n",
    "\n",
    "def crushClouds(skyMap, i, j):\n",
    "    if i == -1 or j == -1 or i == len(skyMap) or j == len(skyMap[0]): return\n",
    "    if skyMap[i][j] == \"1\":\n",
    "        skyMap[i][j] = 0\n",
    "        for x, y in zip([i-1, i+1, i, i], [j, j, j-1, j+1]): crushClouds(skyMap, x, y)\n",
    "    \n",
    "    "
   ]
  },
  {
   "cell_type": "code",
   "execution_count": null,
   "metadata": {
    "collapsed": true
   },
   "outputs": [],
   "source": []
  }
 ],
 "metadata": {
  "anaconda-cloud": {},
  "kernelspec": {
   "display_name": "Python [conda env:Anaconda3]",
   "language": "python",
   "name": "conda-env-Anaconda3-py"
  },
  "language_info": {
   "codemirror_mode": {
    "name": "ipython",
    "version": 3
   },
   "file_extension": ".py",
   "mimetype": "text/x-python",
   "name": "python",
   "nbconvert_exporter": "python",
   "pygments_lexer": "ipython3",
   "version": "3.5.2"
  }
 },
 "nbformat": 4,
 "nbformat_minor": 2
}
