{
 "cells": [
  {
   "cell_type": "code",
   "execution_count": 1,
   "metadata": {
    "collapsed": true
   },
   "outputs": [],
   "source": [
    "def decodeString(s):\n",
    "    \"\"\"\n",
    "    Time: O(n) Space: O(n)\n",
    "    10[st4[ring]]\n",
    "    \n",
    "    ['']\n",
    "    ['',10] -> append integer\n",
    "    ['', 10, ''] -> append a emtpy string\n",
    "    ['',10,'st'] -> append string\n",
    "    ['', 10, 'st', 4] -> append integer\n",
    "    ['', 10, 'st', 4, '']\n",
    "    ['',10,'st',4, 'ring']\n",
    "    ['',10, 'st'], 'ringringring'\n",
    "    ['',10,'stringringring]\n",
    "    ['','stringringring'*10]\n",
    "    return 'stringringring'*10\n",
    "    \"\"\"\n",
    "    i,n = 0, len(s)\n",
    "    stack = ['']\n",
    "    while i < n:\n",
    "        if s[i].isdigit():\n",
    "            init = i\n",
    "            while i < n and s[i].isdigit(): i+=1\n",
    "            stack.append(int(s[init:i]))\n",
    "        if s[i] == '[':\n",
    "            stack.append('')\n",
    "        if s[i].isalpha():\n",
    "            stack[-1] += s[i]\n",
    "        if s[i] == ']':\n",
    "            strings = stack.pop()\n",
    "            number = stack.pop()\n",
    "            stack[-1] += (strings * number)\n",
    "        i += 1\n",
    "    \n",
    "    return ''.join(x for x in stack)\n"
   ]
  },
  {
   "cell_type": "code",
   "execution_count": null,
   "metadata": {
    "collapsed": true
   },
   "outputs": [],
   "source": []
  }
 ],
 "metadata": {
  "kernelspec": {
   "display_name": "Python [conda env:Anaconda3]",
   "language": "python",
   "name": "conda-env-Anaconda3-py"
  },
  "language_info": {
   "codemirror_mode": {
    "name": "ipython",
    "version": 3
   },
   "file_extension": ".py",
   "mimetype": "text/x-python",
   "name": "python",
   "nbconvert_exporter": "python",
   "pygments_lexer": "ipython3",
   "version": "3.5.2"
  }
 },
 "nbformat": 4,
 "nbformat_minor": 2
}
