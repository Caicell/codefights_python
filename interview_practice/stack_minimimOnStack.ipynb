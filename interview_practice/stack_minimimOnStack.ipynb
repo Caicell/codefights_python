{
 "cells": [
  {
   "cell_type": "code",
   "execution_count": 1,
   "metadata": {
    "collapsed": true
   },
   "outputs": [],
   "source": [
    "def minimumOnStack(operations):\n",
    "    \"\"\"\n",
    "    Time: O(n) Space: O(n)\n",
    "    1. Make the stack [(val, min_val_1), (val2, min_val_2)] where min_val_i is under the index, i, the minimum value\n",
    "    2. When 'min' value appear, get the value from the top\n",
    "    \"\"\"\n",
    "    \n",
    "    minStack = []\n",
    "    stack = []\n",
    "    for st in operations:\n",
    "        if st[:2]=='pu':\n",
    "            val = int(st[5:])\n",
    "            if stack: \n",
    "                stack.append([val, min(val, stack[-1][1])])\n",
    "            else: \n",
    "                stack.append([val, val])\n",
    "            \n",
    "        elif stack and st[-1] == \"p\": stack.pop()\n",
    "        elif stack and st[-1] == \"n\": minStack.append(stack[-1][1])\n",
    "    \n",
    "    return minStack\n"
   ]
  },
  {
   "cell_type": "code",
   "execution_count": null,
   "metadata": {
    "collapsed": true
   },
   "outputs": [],
   "source": []
  }
 ],
 "metadata": {
  "anaconda-cloud": {},
  "kernelspec": {
   "display_name": "Python [conda env:Anaconda3]",
   "language": "python",
   "name": "conda-env-Anaconda3-py"
  },
  "language_info": {
   "codemirror_mode": {
    "name": "ipython",
    "version": 3
   },
   "file_extension": ".py",
   "mimetype": "text/x-python",
   "name": "python",
   "nbconvert_exporter": "python",
   "pygments_lexer": "ipython3",
   "version": "3.5.2"
  }
 },
 "nbformat": 4,
 "nbformat_minor": 2
}
