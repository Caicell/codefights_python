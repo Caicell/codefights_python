{
 "cells": [
  {
   "cell_type": "code",
   "execution_count": 1,
   "metadata": {
    "collapsed": true
   },
   "outputs": [],
   "source": [
    "def nearestGreater(a):\n",
    "    \"\"\"\n",
    "    Time: O(n) Space: O(n)\n",
    "    - nextLarger from both directions, left and right\n",
    "    - Compare the nearst larger\n",
    "    \"\"\"\n",
    "\n",
    "    \n",
    "    n = len(a)\n",
    "    b_1, b_2 = [-1] * n, [-1] * n\n",
    "    stack = []\n",
    "    for i,x in enumerate(a):\n",
    "        while stack and a[stack[-1]] < x: b_1[stack.pop()] = i\n",
    "        stack.append(i)\n",
    "        \n",
    "    stack.clear()\n",
    "    for i in reversed(range(n)):\n",
    "        while stack and a[stack[-1]] < a[i]: b_2[stack.pop()] = i\n",
    "        stack.append(i)\n",
    "    \n",
    "    b = [-1] * n\n",
    "    for i in range(n):\n",
    "        if b_1[i] == -1 and b_2[i] == -1: continue\n",
    "        if b_1[i] == -1: b[i] = b_2[i]\n",
    "        elif b_2[i] == -1: b[i] = b_1[i]\n",
    "        else:\n",
    "            if i - b_2[i] <= b_1[i] - i: b[i] = b_2[i]\n",
    "            else: b[i] = b_1[i]\n",
    "    return b\n",
    "                \n",
    "\n",
    "    "
   ]
  },
  {
   "cell_type": "code",
   "execution_count": null,
   "metadata": {
    "collapsed": true
   },
   "outputs": [],
   "source": []
  }
 ],
 "metadata": {
  "kernelspec": {
   "display_name": "Python [conda env:Anaconda3]",
   "language": "python",
   "name": "conda-env-Anaconda3-py"
  },
  "language_info": {
   "codemirror_mode": {
    "name": "ipython",
    "version": 3
   },
   "file_extension": ".py",
   "mimetype": "text/x-python",
   "name": "python",
   "nbconvert_exporter": "python",
   "pygments_lexer": "ipython3",
   "version": "3.5.2"
  }
 },
 "nbformat": 4,
 "nbformat_minor": 2
}
