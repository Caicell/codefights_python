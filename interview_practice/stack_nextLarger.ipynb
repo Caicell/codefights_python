{
 "cells": [
  {
   "cell_type": "code",
   "execution_count": 1,
   "metadata": {
    "collapsed": true
   },
   "outputs": [],
   "source": [
    "def nextLarger(a):\n",
    "\n",
    "    \"\"\"\n",
    "    Time O(n), Space O(n)\n",
    "    - Stacking the decreasing stack, such as [10 9 3 ...]\n",
    "    - stack[-1] < val, stack.pop()\n",
    "    - The stack keep the status of the decreasement\n",
    "    \"\"\"\n",
    "    nextLar = [-1] * len(a)\n",
    "    decreased = []\n",
    "    for i, curVal in enumerate(a):\n",
    "        while decreased and a[decreased[-1]] < curVal:\n",
    "            nextLar[decreased.pop()] = curVal\n",
    "        decreased.append(i)\n",
    "    return nextLar"
   ]
  },
  {
   "cell_type": "code",
   "execution_count": null,
   "metadata": {
    "collapsed": true
   },
   "outputs": [],
   "source": []
  }
 ],
 "metadata": {
  "kernelspec": {
   "display_name": "Python [conda env:Anaconda3]",
   "language": "python",
   "name": "conda-env-Anaconda3-py"
  },
  "language_info": {
   "codemirror_mode": {
    "name": "ipython",
    "version": 3
   },
   "file_extension": ".py",
   "mimetype": "text/x-python",
   "name": "python",
   "nbconvert_exporter": "python",
   "pygments_lexer": "ipython3",
   "version": "3.5.2"
  }
 },
 "nbformat": 4,
 "nbformat_minor": 2
}
