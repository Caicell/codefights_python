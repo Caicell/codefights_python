{
 "cells": [
  {
   "cell_type": "code",
   "execution_count": 1,
   "metadata": {
    "collapsed": true
   },
   "outputs": [],
   "source": [
    "def simplifyPath(path):\n",
    "    \"\"\"\n",
    "    #Time O(n), Space O(n)\n",
    "     / is the root directory: the path should always start with it even if isn't there in the given path;\n",
    "     / is also used as a directory separator, // cur Dir\n",
    "     . used to mark the current directory\n",
    "     .. is used to mark the parent directory\n",
    "\n",
    "     Categorized by \"/\", \"//\", \".\", \"..\"\n",
    "     Stack the word [word0, word1, word2] \n",
    "     And according to conditional pop() or insert()\n",
    "     We have to meet every session \"/\", then evaluate what action we have\n",
    "     \"/ -> /\" check go to the end of /\n",
    "     \"/ -> .\" check dotNum = the consecutive number of ., and stack.pop() condition dotNum -= 2, dotNum > 1,  stack exist\n",
    "     \"/ -> word\" until find a new /, create and insert word into stack\n",
    "     If stack is empty, \"..\" useless\n",
    "     \n",
    "     At the end, return '/'+'/'.join(stack)\n",
    "\n",
    "    \"\"\"\n",
    "    stack = []\n",
    "    i = 0\n",
    "    n = len(path)\n",
    "    while i < n:\n",
    "        while i < n and path[i] == \"/\": i += 1\n",
    "        dotNum = 0\n",
    "        while i < n and path[i] == \".\": \n",
    "            dotNum += 1\n",
    "            i += 1\n",
    "        while stack and dotNum > 1:\n",
    "            stack.pop()\n",
    "            dotNum -= 2\n",
    "        if i< n and path[i] != \"/\":\n",
    "            st = i\n",
    "            while i < n and path[i] != \"/\": i += 1\n",
    "            stack.append(path[st:i])\n",
    "    return '/' + '/'.join(stack)\n",
    "        \n",
    "            \n",
    "    "
   ]
  },
  {
   "cell_type": "code",
   "execution_count": null,
   "metadata": {
    "collapsed": true
   },
   "outputs": [],
   "source": []
  }
 ],
 "metadata": {
  "anaconda-cloud": {},
  "kernelspec": {
   "display_name": "Python [conda env:Anaconda3]",
   "language": "python",
   "name": "conda-env-Anaconda3-py"
  },
  "language_info": {
   "codemirror_mode": {
    "name": "ipython",
    "version": 3
   },
   "file_extension": ".py",
   "mimetype": "text/x-python",
   "name": "python",
   "nbconvert_exporter": "python",
   "pygments_lexer": "ipython3",
   "version": "3.5.2"
  }
 },
 "nbformat": 4,
 "nbformat_minor": 2
}
